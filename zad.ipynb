{
 "cells": [
  {
   "cell_type": "code",
   "execution_count": 1,
   "id": "52280c68-49f4-43de-bd44-e7a572e97e93",
   "metadata": {},
   "outputs": [],
   "source": [
    "#pip install wget\n",
    "import pandas as pd\n",
    "import numpy as np\n",
    "import json as js\n",
    "import requests"
   ]
  },
  {
   "cell_type": "code",
   "execution_count": 8,
   "id": "73f80056-a563-4058-81e1-eece05039d94",
   "metadata": {},
   "outputs": [
    {
     "name": "stdout",
     "output_type": "stream",
     "text": [
      "Data has been retrieved. It is stored in files named: 'users.json', 'carts.json' and 'products.json'.\n"
     ]
    }
   ],
   "source": [
    "# 1\n",
    "ru = requests.get(\"https://fakestoreapi.com/users\")\n",
    "open(\"users.json\", \"wb\").write(ru.content)\n",
    "rc = requests.get(\"https://fakestoreapi.com/carts/?startdate=2000-01-01&enddate=2023-04-07\")\n",
    "open(\"carts.json\", \"wb\").write(rc.content)\n",
    "rp = requests.get(\"https://fakestoreapi.com/products\")\n",
    "open(\"products.json\", \"wb\").write(rp.content)\n",
    "\n",
    "print(\"Data has been retrieved. It is stored in files named: 'users.json', 'carts.json' and 'products.json'.\")"
   ]
  },
  {
   "cell_type": "code",
   "execution_count": 3,
   "id": "339226ca-c66d-4bf6-a0e3-39426e9c236b",
   "metadata": {},
   "outputs": [
    {
     "data": {
      "text/html": [
       "<div>\n",
       "<style scoped>\n",
       "    .dataframe tbody tr th:only-of-type {\n",
       "        vertical-align: middle;\n",
       "    }\n",
       "\n",
       "    .dataframe tbody tr th {\n",
       "        vertical-align: top;\n",
       "    }\n",
       "\n",
       "    .dataframe thead th {\n",
       "        text-align: right;\n",
       "    }\n",
       "</style>\n",
       "<table border=\"1\" class=\"dataframe\">\n",
       "  <thead>\n",
       "    <tr style=\"text-align: right;\">\n",
       "      <th></th>\n",
       "      <th>first name</th>\n",
       "      <th>last name</th>\n",
       "    </tr>\n",
       "    <tr>\n",
       "      <th>id</th>\n",
       "      <th></th>\n",
       "      <th></th>\n",
       "    </tr>\n",
       "  </thead>\n",
       "  <tbody>\n",
       "    <tr>\n",
       "      <th>1</th>\n",
       "      <td>john</td>\n",
       "      <td>doe</td>\n",
       "    </tr>\n",
       "    <tr>\n",
       "      <th>2</th>\n",
       "      <td>david</td>\n",
       "      <td>morrison</td>\n",
       "    </tr>\n",
       "    <tr>\n",
       "      <th>3</th>\n",
       "      <td>kevin</td>\n",
       "      <td>ryan</td>\n",
       "    </tr>\n",
       "    <tr>\n",
       "      <th>4</th>\n",
       "      <td>don</td>\n",
       "      <td>romer</td>\n",
       "    </tr>\n",
       "    <tr>\n",
       "      <th>5</th>\n",
       "      <td>derek</td>\n",
       "      <td>powell</td>\n",
       "    </tr>\n",
       "    <tr>\n",
       "      <th>6</th>\n",
       "      <td>david</td>\n",
       "      <td>russell</td>\n",
       "    </tr>\n",
       "    <tr>\n",
       "      <th>7</th>\n",
       "      <td>miriam</td>\n",
       "      <td>snyder</td>\n",
       "    </tr>\n",
       "    <tr>\n",
       "      <th>8</th>\n",
       "      <td>william</td>\n",
       "      <td>hopkins</td>\n",
       "    </tr>\n",
       "    <tr>\n",
       "      <th>9</th>\n",
       "      <td>kate</td>\n",
       "      <td>hale</td>\n",
       "    </tr>\n",
       "    <tr>\n",
       "      <th>10</th>\n",
       "      <td>jimmie</td>\n",
       "      <td>klein</td>\n",
       "    </tr>\n",
       "  </tbody>\n",
       "</table>\n",
       "</div>"
      ],
      "text/plain": [
       "   first name last name\n",
       "id                     \n",
       "1        john       doe\n",
       "2       david  morrison\n",
       "3       kevin      ryan\n",
       "4         don     romer\n",
       "5       derek    powell\n",
       "6       david   russell\n",
       "7      miriam    snyder\n",
       "8     william   hopkins\n",
       "9        kate      hale\n",
       "10     jimmie     klein"
      ]
     },
     "execution_count": 3,
     "metadata": {},
     "output_type": "execute_result"
    }
   ],
   "source": [
    "with open('users.json', 'r') as f:\n",
    "    users = js.load(f)\n",
    "\n",
    "ids = np.array([])\n",
    "fnames = np.array([])\n",
    "lnames = np.array([])\n",
    "    \n",
    "for u in users:\n",
    "    ids = np.append(ids, u['id'])\n",
    "    fnames = np.append(fnames, u['name']['firstname'])\n",
    "    lnames = np.append(lnames, u['name']['lastname'])\n",
    "\n",
    "dfu = pd.DataFrame({'id':ids, 'first name':fnames, 'last name':lnames})\n",
    "dfu['id'] = dfu['id'].astype(int)\n",
    "dfu.set_index('id', drop=True, inplace=True)\n",
    "dfu"
   ]
  },
  {
   "cell_type": "code",
   "execution_count": 4,
   "id": "3a8c282d-a539-4172-9a3e-8db475ec1209",
   "metadata": {},
   "outputs": [
    {
     "name": "stdout",
     "output_type": "stream",
     "text": [
      "category\n",
      "electronics         1994.99\n",
      "jewelery             883.98\n",
      "men's clothing       204.23\n",
      "women's clothing     157.72\n",
      "Name: price, dtype: float64\n"
     ]
    }
   ],
   "source": [
    "# 2\n",
    "with open('products.json', 'r') as f:\n",
    "    products = js.load(f)\n",
    "\n",
    "ids = np.array([])\n",
    "categories = np.array([])\n",
    "prices = np.array([])\n",
    "\n",
    "for p in products:\n",
    "    ids = np.append(ids, p['id'])\n",
    "    categories = np.append(categories, p['category'])\n",
    "    prices = np.append(prices, p['price'])\n",
    "\n",
    "dfp = pd.DataFrame({'id':ids, 'category':categories, 'price':prices})\n",
    "dfp['id'] = dfp['id'].astype(int)\n",
    "dfp.set_index('id', drop=True, inplace=True)\n",
    "print(dfp.groupby('category').sum()['price'])"
   ]
  },
  {
   "cell_type": "code",
   "execution_count": 5,
   "id": "77634973-6a2d-43f3-a5db-2ab63ca86135",
   "metadata": {},
   "outputs": [
    {
     "name": "stdout",
     "output_type": "stream",
     "text": [
      "Cart with id 2 has the highest value of: 2578.7. It belongs to the owner: john doe.\n"
     ]
    }
   ],
   "source": [
    "# 3\n",
    "with open('carts.json', 'r') as f:\n",
    "    carts = js.load(f)\n",
    "\n",
    "cid = 0\n",
    "value = 0\n",
    "uid = 0\n",
    "\n",
    "for c in carts:\n",
    "    t = 0\n",
    "    for i in c['products']:\n",
    "        t += i['quantity'] * dfp['price'][i['productId']]\n",
    "    if t > value:\n",
    "        value = t\n",
    "        cid = c['id']\n",
    "        uid = c['userId']\n",
    "\n",
    "print(f\"Cart with id {cid} has the highest value of: {value}. It belongs to the owner: {dfu['first name'][uid]} {dfu['last name'][uid]}.\")"
   ]
  },
  {
   "cell_type": "code",
   "execution_count": 6,
   "id": "18408504-0a84-49ad-884d-51d01a5ebe96",
   "metadata": {},
   "outputs": [
    {
     "name": "stdout",
     "output_type": "stream",
     "text": [
      "Users with ids: 1 and 5 live furthest away from each other. Their names are respectively: john doe and derek powell\n"
     ]
    }
   ],
   "source": [
    "# 4\n",
    "uid1 = 0\n",
    "uid2 = 0\n",
    "dist = 0\n",
    "\n",
    "for u1 in users:\n",
    "    for u2 in users:\n",
    "        lat = abs(float(u1['address']['geolocation']['lat']) - float(u2['address']['geolocation']['lat']))\n",
    "        lon = abs(float(u1['address']['geolocation']['long']) - float(u2['address']['geolocation']['long']))\n",
    "        d = np.sqrt(lat*lat + lon*lon)\n",
    "        if(d>dist):\n",
    "            uid1 = u1['id']\n",
    "            uid2 = u2['id']\n",
    "            dist = d\n",
    "\n",
    "print(f\"Users with ids: {uid1} and {uid2} live furthest away from each other. Their names are respectively: {dfu['first name'][uid1]} {dfu['last name'][uid1]} and {dfu['first name'][uid2]} {dfu['last name'][uid2]}\")"
   ]
  },
  {
   "cell_type": "code",
   "execution_count": null,
   "id": "177ba338-0015-4c84-82ea-b4b70d046cc4",
   "metadata": {},
   "outputs": [],
   "source": []
  }
 ],
 "metadata": {
  "kernelspec": {
   "display_name": "Python 3 (ipykernel)",
   "language": "python",
   "name": "python3"
  },
  "language_info": {
   "codemirror_mode": {
    "name": "ipython",
    "version": 3
   },
   "file_extension": ".py",
   "mimetype": "text/x-python",
   "name": "python",
   "nbconvert_exporter": "python",
   "pygments_lexer": "ipython3",
   "version": "3.10.5"
  }
 },
 "nbformat": 4,
 "nbformat_minor": 5
}
